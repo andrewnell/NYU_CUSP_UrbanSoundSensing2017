{
 "cells": [
  {
   "cell_type": "markdown",
   "metadata": {},
   "source": [
    "# Working with SPL Data"
   ]
  },
  {
   "cell_type": "code",
   "execution_count": null,
   "metadata": {},
   "outputs": [],
   "source": [
    "from __future__ import print_function\n",
    "import numpy as np\n",
    "import pandas as pd\n",
    "\n",
    "import matplotlib.pyplot as plt\n",
    "from matplotlib.dates import DateFormatter"
   ]
  },
  {
   "cell_type": "code",
   "execution_count": null,
   "metadata": {},
   "outputs": [],
   "source": [
    "plt.rcParams['figure.figsize'] = 15, 8"
   ]
  },
  {
   "cell_type": "markdown",
   "metadata": {},
   "source": [
    "## Loading from CSV\n",
    "Sound Pressure Level data ($L_{Aeq}$) contains two weeks of data, pulled from the SONYC node at 719 Broadway."
   ]
  },
  {
   "cell_type": "code",
   "execution_count": null,
   "metadata": {},
   "outputs": [],
   "source": [
    "df_full = pd.read_csv('spl_data.csv', parse_dates=['level_time']).set_index('level_time')\n",
    "\n",
    "print('data spanning: {:%m/%d/%Y %H:%M:%S} - {:%m/%d/%Y %H:%M:%S}'.format(\n",
    "    df_full.index.min(), df_full.index.max()\n",
    "))\n",
    "df_full.head()"
   ]
  },
  {
   "cell_type": "markdown",
   "metadata": {},
   "source": [
    "## What does it look like?\n",
    "Let's take a look at the raw SPL data from the node. We are going to take a smaller subsample of the data because plotting the full dataset takes a really long time."
   ]
  },
  {
   "cell_type": "code",
   "execution_count": null,
   "metadata": {},
   "outputs": [],
   "source": [
    "df = df_full[8000:48000] # let's look at a smaller sample"
   ]
  },
  {
   "cell_type": "code",
   "execution_count": null,
   "metadata": {},
   "outputs": [],
   "source": [
    "df.laeq.plot()\n",
    "plt.title('A-weighted Sound Pressure Level between {:%m/%d/%Y %H:%M:%S} and {:%m/%d/%Y %H:%M:%S}'.format(\n",
    "    df.index.min(), df.index.max()\n",
    "))\n",
    "plt.xlabel('Time')\n",
    "plt.ylabel('LAeq - dBA (re: 20microPa)')\n",
    "plt.gca().xaxis.set_major_formatter(DateFormatter('%m/%d %H:%M'));"
   ]
  },
  {
   "cell_type": "markdown",
   "metadata": {},
   "source": [
    "Well that's a mess. Let's do some averaging."
   ]
  },
  {
   "cell_type": "markdown",
   "metadata": {},
   "source": [
    "## dB Averaging\n",
    "Sound pressure levels are represented using decibels (dB), which is a logarithmic unit meant to represent the relationship between two values. With sound, we are looking at the ratio between a pressure reading against some reference pressure. In most cases, the reference pressure used is the threshold of human hearing ($20\\mu Pa)$. The equation for calculating decibels can be seen below.\n",
    "\n",
    "$$dB=10log(P^2/P_0^2)$$\n",
    "\n",
    "So when we want to find the average sound pressure level, we need to take an average of the squared pressure (a.k.a. power) measurements. This involves backing out from dB to pressure, averaging the pressure values, and converting back to decibels.\n",
    "\n",
    "$$\\frac{P^2}{P_0^2} = 10^{dB/10}$$\n",
    "$$dB_{mean}=10log\\left(mean\\left(\\frac{P^2}{P_0^2}\\right)\\right)$$\n"
   ]
  },
  {
   "cell_type": "code",
   "execution_count": null,
   "metadata": {},
   "outputs": [],
   "source": [
    "def mean_dB(dBs):\n",
    "    '''Takes the average of a series of sound level measurements.\n",
    "    This is done by averaging the arguments of the log function in the dB equation.\n",
    "        where: dB = 10*log10(argument)\n",
    "        then: dB_avg = 10*log10(mean(arguments))\n",
    "    Arguments:\n",
    "        dBs (Series/np.array): an array of SPL measurements\n",
    "    Returns:\n",
    "        average dB (float)\n",
    "    '''\n",
    "    return 10*np.log10( np.mean(10**(dBs / 10.)) )\n",
    "\n",
    "dBs = np.array([60, 65, 55, 40, 68, 78, 77, 90])\n",
    "\n",
    "print(dBs)\n",
    "print('Algorithmic Mean: {:.1f} dB'.format(np.mean(dBs)))\n",
    "print('Logarithmic Mean: {:.1f} dB'.format(mean_dB(dBs)))"
   ]
  },
  {
   "cell_type": "markdown",
   "metadata": {},
   "source": [
    "Now we can use this function to take a rolling average over the entire signal using a window size that we specify. Using `average_over`, you can specify the length of the window in minutes. We then multiply that by the average number of samples per minute to get the window size."
   ]
  },
  {
   "cell_type": "code",
   "execution_count": null,
   "metadata": {},
   "outputs": [],
   "source": [
    "### You can play with this :D\n",
    "average_over = 120 # minutes\n",
    "###\n",
    "\n",
    "# approx samples per minute\n",
    "sample_frequency = np.mean(\n",
    "    np.timedelta64(1, 'm') \n",
    "    / np.diff(df.index)\n",
    ")\n",
    "print('rolling average over {} minutes, ~{:.1f} samples / min'.format(\n",
    "    average_over, sample_frequency\n",
    "))\n",
    "\n",
    "# compute the moving average over the LAeq data\n",
    "laeq_moving_avg = df.laeq.rolling(\n",
    "    window=int(average_over * sample_frequency)\n",
    ").apply(mean_dB).dropna()\n",
    "\n",
    "# show the smoothed time series\n",
    "laeq_moving_avg.plot()\n",
    "plt.title('A-weighted Sound Pressure Level between {:%d/%m/%Y %H:%M:%S} and {:%d/%m/%Y %H:%M:%S}'.format(\n",
    "    df.index.min(), df.index.max()\n",
    "))\n",
    "plt.xlabel('Time')\n",
    "plt.ylabel('LAeq - dBA (re: 20microPa)')\n",
    "plt.gca().xaxis.set_major_formatter(DateFormatter('%m/%d %H:%M'));"
   ]
  },
  {
   "cell_type": "markdown",
   "metadata": {},
   "source": [
    "## Can we find any patterns?\n",
    "Here we are looking at the weekday vs. weekend patterns of noise over the course of the day. The code below first groups the data by weekday vs. weekend, then groups each of those by hour of the day and computes the average for each hour. "
   ]
  },
  {
   "cell_type": "code",
   "execution_count": null,
   "metadata": {},
   "outputs": [],
   "source": [
    "def average_hourly_spl(df):\n",
    "    # averages over the hour of the day\n",
    "    return df.groupby(df.index.hour).apply(mean_dB)\n",
    "\n",
    "# get numpy array with weekend/weekday\n",
    "is_weekend = pd.Series(df_full.index.weekday <= 5).map(\n",
    "    {True: 'Weekday', False: 'Weekend'}\n",
    ").values\n",
    "\n",
    "# first groupby weekday vs weekend, then groupby and average over each hour\n",
    "dB_by_wk_hr = df_full.laeq.groupby(is_weekend).apply(average_hourly_spl).unstack()\n",
    "dB_by_wk_hr.head()"
   ]
  },
  {
   "cell_type": "code",
   "execution_count": null,
   "metadata": {},
   "outputs": [],
   "source": [
    "dB_by_wk_hr.T.plot()\n",
    "plt.title('Average Hourly SPL for Weekday vs. Weekend over Two Weeks')\n",
    "plt.xlabel('Hour of Day')\n",
    "plt.ylabel('LAeq dBA (re: 20microPa)');"
   ]
  },
  {
   "cell_type": "markdown",
   "metadata": {},
   "source": [
    "There appears to be a higher overall sound level throughout the day during weekdays than during the weekend. There is a marginally higher level in the mornings over the weekend, corresponding to more people getting lit. This is a very cursory analysis of the data, however it demonstrates the types of aggregations that you can perform to detect recurrent patterns in your data."
   ]
  },
  {
   "cell_type": "markdown",
   "metadata": {},
   "source": [
    "## Event Detection\n",
    "One frequent use of sound pressure level data is to find anamolous behavior, for example identifying unlawful construction. The most simple method of doing this is to just define a threshold and report whenever the level exceeds that threshold."
   ]
  },
  {
   "cell_type": "code",
   "execution_count": null,
   "metadata": {},
   "outputs": [],
   "source": [
    "### set your own threshold based on what events you want to catch\n",
    "threshold = 90\n",
    "###\n",
    "\n",
    "# get the degree of an event\n",
    "laeq_moving_avg.plot()\n",
    "\n",
    "# check against threshold\n",
    "is_event = laeq_moving_avg >= threshold\n",
    "\n",
    "# draw threshold line\n",
    "plt.plot([laeq_moving_avg.index.min(), laeq_moving_avg.index.max()], [threshold]*2)\n",
    "\n",
    "# draw the colored points\n",
    "plt.scatter(\n",
    "    laeq_moving_avg.index, laeq_moving_avg, \n",
    "    c=is_event.astype(int), \n",
    "    cmap=plt.cm.jet, s=8, zorder=10)\n",
    "\n",
    "plt.title('Event Detection with Manual Thresholding')\n",
    "plt.xlabel('Time')\n",
    "plt.ylabel('LAeq - dBA (re: 20microPa)')\n",
    "plt.gca().xaxis.set_major_formatter(DateFormatter('%m/%d %H:%M'));"
   ]
  },
  {
   "cell_type": "markdown",
   "metadata": {},
   "source": [
    "But this involves physically setting the threshold to a value that is going to be meaningful. And if you're managing a large array of sensors, they may have different ambient levels and you may want a more adaptive threshold (because I'm not gonna be the one who tunes those by hand). \n",
    "\n",
    "A basic method of adaptive thresholding is by using normalization, where we transform the data into the distance that that point is from the mean, in units of standard deviations (meaning a value of 1 signifies that it is one standard deviation away from the mean)."
   ]
  },
  {
   "cell_type": "code",
   "execution_count": null,
   "metadata": {},
   "outputs": [],
   "source": [
    "### you can tweak this if you're so inclined\n",
    "n_standard_deviations = 1\n",
    "###\n",
    "\n",
    "def normalize(x):\n",
    "    '''Get the # standard deviations from the mean'''\n",
    "    return (np.array(x) - np.nanmean(x)) / np.std(x)\n",
    "\n",
    "# scales all data based on the mean and standard deviation\n",
    "laeq_norm = normalize(laeq_moving_avg)\n",
    "\n",
    "laeq_moving_avg.plot()\n",
    "\n",
    "# draw threshold line\n",
    "threshold = laeq_moving_avg.mean() + n_standard_deviations * laeq_moving_avg.std()\n",
    "print('using a threshold of: {:.1f}'.format(threshold))\n",
    "plt.plot([laeq_moving_avg.index.min(), laeq_moving_avg.index.max()], [threshold]*2)\n",
    "\n",
    "# checks values against threshold, can use negative value for lower bound\n",
    "is_event = (laeq_norm >= n_standard_deviations if n_standard_deviations > 0 \n",
    "       else laeq_norm <= n_standard_deviations)\n",
    "\n",
    "# draw the colored points\n",
    "plt.scatter(\n",
    "    laeq_moving_avg.index, laeq_moving_avg, \n",
    "    c=(is_event).astype(int),\n",
    "    cmap=plt.cm.jet, s=8, zorder=10)\n",
    "\n",
    "plt.title('Event Detection with Statistical Thresholding')\n",
    "plt.xlabel('Time')\n",
    "plt.ylabel('LAeq - dBA (re: 20microPa)')\n",
    "plt.gca().xaxis.set_major_formatter(DateFormatter('%m/%d %H:%M'));"
   ]
  },
  {
   "cell_type": "markdown",
   "metadata": {},
   "source": [
    "## Real-Time Event Detection\n",
    "Now we're going to do some event detection using your own microphone input :D. You'll need to install pyaudio if you don't have it installed already. You should have ipywidgets installed with Jupyter by default, but I'm sorry if you have any trouble '_'"
   ]
  },
  {
   "cell_type": "code",
   "execution_count": null,
   "metadata": {},
   "outputs": [],
   "source": [
    "# !pip install pyaudio"
   ]
  },
  {
   "cell_type": "code",
   "execution_count": null,
   "metadata": {},
   "outputs": [],
   "source": [
    "import pyaudio\n",
    "from datetime import datetime\n",
    "audio = pyaudio.PyAudio()\n",
    "stream = None\n",
    "\n",
    "from IPython.display import display\n",
    "from ipywidgets import widgets as w"
   ]
  },
  {
   "cell_type": "markdown",
   "metadata": {},
   "source": [
    "### Setting up the widgets\n",
    "You don't really need to worry about what's going on here so you can **skip over it**. Here we are creating the start/stop buttons, the text output, and the threshold slider."
   ]
  },
  {
   "cell_type": "code",
   "execution_count": null,
   "metadata": {},
   "outputs": [],
   "source": [
    "# create buttons to start and stop recording    \n",
    "start_stop = w.ToggleButtons(\n",
    "    options=['Start', 'Stop'],\n",
    "    description='Listening:',\n",
    "    value='Stop',\n",
    ")\n",
    "\n",
    "# create a function to call when a button is pressed\n",
    "def start_stop_recording(b):\n",
    "    global stream\n",
    "    # check the new button value\n",
    "    if b['new'] == 'Start':\n",
    "        stream.start_stream()\n",
    "    else: \n",
    "        stream.stop_stream()\n",
    "        print('Stopped!')\n",
    "\n",
    "start_stop.observe(start_stop_recording, 'value')\n",
    "\n",
    "\n",
    "# create a label to print and update text\n",
    "label = w.Label()\n",
    "\n",
    "\n",
    "# create an input to change the threshold\n",
    "threshold_slider = w.FloatSlider(\n",
    "    value=90, # default value\n",
    "    min=0, max=150, # slider bounds\n",
    "    step=0.1,\n",
    "    description='Threshold:',\n",
    "    orientation='horizontal',\n",
    "    readout=True,\n",
    "    readout_format='.1f',\n",
    ")"
   ]
  },
  {
   "cell_type": "markdown",
   "metadata": {},
   "source": [
    "### Initializing the audio stream\n",
    "Again, you can **just keep moving**. This sets up the audio recording and converts the raw audio stream into instantaneous sound pressure levels."
   ]
  },
  {
   "cell_type": "code",
   "execution_count": null,
   "metadata": {
    "scrolled": true
   },
   "outputs": [],
   "source": [
    "calls_per_second = 10 # the number of times the function is called per second\n",
    "MAX_dB = 110 # the max SPL that the microphone can pick up (I arbitrarily picked this fyi)\n",
    "\n",
    "# calculates the maximum SPL representable by your computer for full-scale normalization\n",
    "REF_dBFS = 20*np.log10(np.iinfo(np.int16).max)\n",
    "\n",
    "def to_dB(samples, ref_dB=0):\n",
    "    '''Convert array of samples to the average decibel level\n",
    "    Arguments:\n",
    "        samples (np.array): audio amplitude\n",
    "        ref_dB (float): the reference dB level\n",
    "    '''\n",
    "    return 10*np.log10( np.mean(samples**2.) ) - ref_dB\n",
    "\n",
    "# define callback to be called on every buffer update\n",
    "def pyaudio_callback(in_data, frame_count, time_info, status):\n",
    "    # convert from bytestring to array\n",
    "    audio_data = np.fromstring(in_data, dtype=np.int16)\n",
    "    \n",
    "    # convert from raw audio to LAeq\n",
    "    spl = to_dB(audio_data, ref_dB=REF_dBFS - MAX_dB)\n",
    "    \n",
    "    try:\n",
    "        keep_going = process_spl(spl) # this is for you to define later\n",
    "    except Exception, e:\n",
    "        keep_going = False\n",
    "        print('Error: {}'.format(e))\n",
    "    \n",
    "    # fyi, you can return false from process_laeq to stop recording\n",
    "    status = pyaudio.paContinue if keep_going is not False else pyaudio.paComplete\n",
    "    return (in_data, status)\n",
    "\n",
    "# if we're rerunning this cell, close previous stream object\n",
    "if stream and stream.is_active():\n",
    "    stream.stop_stream()\n",
    "    stream.close()\n",
    "\n",
    "# setting up audio stream to use callback function\n",
    "Fs = 44100 # audio sample rate (frames/sec)\n",
    "stream = audio.open(format=pyaudio.paInt16,\n",
    "                channels=1, # just use mono\n",
    "                rate=int(Fs), # fps\n",
    "                frames_per_buffer=int(1.*Fs / calls_per_second), # number of samples it serves at a time\n",
    "                input=True, # tell pyaudio that we want mic input\n",
    "                start=False, # don't want it to start right away\n",
    "                stream_callback=pyaudio_callback)"
   ]
  },
  {
   "cell_type": "markdown",
   "metadata": {},
   "source": [
    "### Detect some events!\n",
    "Now here's the juicy part. The function `process_laeq` is called everytime new data comes in. The function above processes the audio data, converts it into dB, and then passes it to you in the function below. Now you can do whatever you want with the live sound level data coming in :). I've added some basic code that prints out when the level exceeds the threshold defined by the slider, but feel free to tweak whatever. That's what cmd-Z is for.\n",
    "\n",
    "Some examples of things you could do are:\n",
    "* **averaging**. You could collect a buffer of previous $L_{Aeq}$ values and check the threshold over the average over that buffer. This would remove more sporatic behavior, for example if you had a noisy mic. I'd recommend using `collections.deque` which make it easy to work with fixed length arrays.\n",
    "* **plotting**. You could plot a moving window of the $L_{Aeq}$. Real-time matplotlib plotting is a bit tricky, but one thing you'll have to do is change `%matplotlib inline` to `%matplotlib interactive` at the top of the notebook.\n",
    "* **\"smart\" alerts**. If you notice, the function fires an alert every single time the level exceeds the threshold. So if you were to scream into your microphone for a few seconds (NO SHAME), you'd notice that a long string of alerts would start to print out. Now if this was alerting me via slack or email, I'd be pretty ticked. So you could develop something that tracks whether the system is in an *alerted* state and only issues alerts when there is a new event. \n",
    "* **adaptive thresholding**. You could apply the technique of adaptive thresholding using normalized $L_{Aeq}$ values over a fixed window of past SPL values\n",
    "* Whatever other brilliant things you can think of\n",
    "\n",
    "**Hint**: Some easy ways to trigger events are by snapping, clapping, or tapping the microphone. Or you can just make mouth sounds. You do you.\n",
    "\n",
    "**Note**: These levels are totally **uncalibrated!!** So don't try and take the data that you get here to the DEP or whatever. "
   ]
  },
  {
   "cell_type": "code",
   "execution_count": null,
   "metadata": {
    "scrolled": false
   },
   "outputs": [],
   "source": [
    "def process_spl(laeq):\n",
    "    '''Do whatever you want in here! This is called everytime the LAeq is computed.\n",
    "    Arguments:\n",
    "        laeq (float): the uncalibrated sound level (dB) at that specific moment.\n",
    "    '''\n",
    "    \n",
    "    # this function is your oyster :D\n",
    "    \n",
    "    # print out events\n",
    "    is_event = 'no event :('\n",
    "    if laeq > threshold_slider.value:\n",
    "        print('event! LAeq={:.2f}, Occurred at {:%H:%M:%S}'.format(laeq, datetime.now()))\n",
    "        is_event = 'event! :D'\n",
    "    \n",
    "    # put live-updating info inside the label widget so it doesn't print on new lines and make you cry\n",
    "    label.value = '{:.2f}dB - {}'.format(laeq, is_event)\n",
    "    \n",
    "# reset the button state\n",
    "start_stop.value = 'Start' if stream.is_active() else 'Stop'\n",
    "display(w.HBox([start_stop, threshold_slider]))\n",
    "display(label)"
   ]
  },
  {
   "cell_type": "code",
   "execution_count": null,
   "metadata": {},
   "outputs": [],
   "source": [
    "# stream.stop_stream() # in case things start acting up :D\n",
    "# stream.close()\n",
    "# # if things start freezing (cell stuck on [*]) you might need to restart the kernel\n",
    "# # if things start printing out like crazy and you can't stop them, you should probs just restart the kernel"
   ]
  }
 ],
 "metadata": {
  "kernelspec": {
   "display_name": "Python 2",
   "language": "python",
   "name": "python2"
  },
  "language_info": {
   "codemirror_mode": {
    "name": "ipython",
    "version": 2
   },
   "file_extension": ".py",
   "mimetype": "text/x-python",
   "name": "python",
   "nbconvert_exporter": "python",
   "pygments_lexer": "ipython2",
   "version": "2.7.13"
  }
 },
 "nbformat": 4,
 "nbformat_minor": 2
}
